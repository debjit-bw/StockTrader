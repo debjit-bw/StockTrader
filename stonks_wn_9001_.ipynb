{
 "cells": [
  {
   "cell_type": "code",
   "execution_count": 10,
   "metadata": {},
   "outputs": [],
   "source": [
    "from tensorflow.keras.models import Model\n",
    "from tensorflow.keras.layers import Dense, LSTM, Reshape, Concatenate, Input, Lambda\n",
    "from tensorflow import convert_to_tensor\n",
    "from tensorflow.keras import backend\n",
    "import numpy as np\n",
    "backend.set_floatx('float32')"
   ]
  },
  {
   "cell_type": "code",
   "execution_count": 18,
   "metadata": {},
   "outputs": [],
   "source": [
    "n1_1 = LSTM(10, return_sequences = True, name = 'n1_1')\n",
    "n1_3 = LSTM(10, return_state = True, name = 'n1_3')\n",
    "n1_d = Dense(5, kernel_initializer = 'glorot_uniform', activation = 'tanh', name = 'n1_d')"
   ]
  },
  {
   "cell_type": "code",
   "execution_count": 19,
   "metadata": {},
   "outputs": [],
   "source": [
    "n2_1 = LSTM(10, return_sequences = True, name = 'n2_1')\n",
    "n2_3 = LSTM(10, return_state = True, name = 'n2_3')\n",
    "n2_d = Dense(5, kernel_initializer = 'glorot_uniform', activation = 'tanh', name = 'n2_d')"
   ]
  },
  {
   "cell_type": "code",
   "execution_count": 20,
   "metadata": {},
   "outputs": [],
   "source": [
    "s_1 = LSTM(20, return_sequences = True, name = 's_1')\n",
    "s_2 = LSTM(15, return_sequences = True, name = 's_2')\n",
    "s_3 = LSTM(10, return_sequences = True, name = 's_3')\n",
    "s_d = Dense(1, kernel_initializer = 'glorot_uniform', activation = 'tanh', name = 's_d')"
   ]
  },
  {
   "cell_type": "code",
   "execution_count": 21,
   "metadata": {},
   "outputs": [],
   "source": [
    "def MODEL (Ts, Tn, Tg):\n",
    "    # Tn: Number of words in each of Ts's news data\n",
    "    # Ts: Number of stock prices. There are equal number of news data blocks (each containing Tn words)\n",
    "    # Tg: Dimentionality of the GloVe vectors used\n",
    "    \n",
    "    N1 = Input(shape = (Ts, Tn, Tg), batch_size = 1, name = 'N1')\n",
    "    N2 = Input(shape = (Ts, Tn, Tg), batch_size = 1, name = 'N2')\n",
    "    S = Input(shape = (Ts), batch_size = 1, name = 'S')\n",
    "    \n",
    "    N_1 = Reshape((Ts, Tn, Tg))(N1)\n",
    "    N_2 = Reshape((Ts, Tn, Tg))(N2)\n",
    "    S_ = Reshape((Ts, 1))(S)\n",
    "\n",
    "    sentiment = convert_to_tensor(np.zeros((1, 1, 10)))   #dim0 (batch_size) is super sticky...setting it to 1 (shape[0]) helps\n",
    "    \n",
    "    for i in range(Ts):\n",
    "        var1 = Lambda(lambda N1: N1[:, i, :, :])(N_1)\n",
    "        var2 = Lambda(lambda N2: N2[:, i, :, :])(N_2)\n",
    "        \n",
    "        var1 = Reshape((Tn, Tg))(var1)\n",
    "        var2 = Reshape((Tn, Tg))(var2)\n",
    "        \n",
    "        var1 = n1_1(var1)\n",
    "        var2 = n2_1(var2)\n",
    "        \n",
    "        _, _, var1 = n1_3(var1)\n",
    "        _, _, var2 = n2_3(var2)\n",
    "        \n",
    "        var1 = n1_d(var1)\n",
    "        var2 = n2_d(var2)\n",
    "        \n",
    "        var1 = Reshape((1, 5))(var1)\n",
    "        var2 = Reshape((1, 5))(var2)\n",
    "        \n",
    "        var = Concatenate(axis = 2)([var1, var2])\n",
    "        \n",
    "        sentiment = Concatenate(axis= 1)([sentiment, var])\n",
    "    \n",
    "    \n",
    "    sentiment = Lambda(lambda s: s[:, 1:, :])(sentiment)\n",
    "    sentiment = Reshape((Ts, 10))(sentiment)\n",
    "    S_ = Reshape((Ts, 1))(S_)\n",
    "    \n",
    "    X = Concatenate(axis = 2)([S_, sentiment])    #dims: (Ts, 51)\n",
    "    \n",
    "    X = s_1(X)\n",
    "    X = s_2(X)\n",
    "    X = s_3(X)\n",
    "    X = s_d(X)\n",
    "    \n",
    "    model = Model(inputs = [N1, N2, S], outputs = X)\n",
    "    \n",
    "    return model"
   ]
  },
  {
   "cell_type": "code",
   "execution_count": 22,
   "metadata": {},
   "outputs": [
    {
     "name": "stdout",
     "output_type": "stream",
     "text": [
      "WARNING:tensorflow:Layer concatenate_17 is casting an input tensor from dtype float64 to the layer's dtype of float32, which is new behavior in TensorFlow 2.  The layer has dtype float32 because it's dtype defaults to floatx.\n",
      "\n",
      "If you intended to run this layer in float32, you can safely ignore this warning. If in doubt, this warning is likely only an issue if you are porting a TensorFlow 1.X model to TensorFlow 2.\n",
      "\n",
      "To change all layers to have dtype float64 by default, call `tf.keras.backend.set_floatx('float64')`. To change just this layer, pass dtype='float64' to the layer constructor. If you are the author of this layer, you can disable autocasting by passing autocast=False to the base Layer constructor.\n",
      "\n"
     ]
    }
   ],
   "source": [
    "model = MODEL(2, 5, 7)"
   ]
  },
  {
   "cell_type": "code",
   "execution_count": 23,
   "metadata": {},
   "outputs": [
    {
     "name": "stdout",
     "output_type": "stream",
     "text": [
      "Model: \"model_2\"\n",
      "__________________________________________________________________________________________________\n",
      "Layer (type)                    Output Shape         Param #     Connected to                     \n",
      "==================================================================================================\n",
      "N1 (InputLayer)                 [(1, 2, 5, 7)]       0                                            \n",
      "__________________________________________________________________________________________________\n",
      "N2 (InputLayer)                 [(1, 2, 5, 7)]       0                                            \n",
      "__________________________________________________________________________________________________\n",
      "reshape_46 (Reshape)            (1, 2, 5, 7)         0           N1[0][0]                         \n",
      "__________________________________________________________________________________________________\n",
      "reshape_47 (Reshape)            (1, 2, 5, 7)         0           N2[0][0]                         \n",
      "__________________________________________________________________________________________________\n",
      "lambda_18 (Lambda)              (1, 5, 7)            0           reshape_46[0][0]                 \n",
      "__________________________________________________________________________________________________\n",
      "lambda_19 (Lambda)              (1, 5, 7)            0           reshape_47[0][0]                 \n",
      "__________________________________________________________________________________________________\n",
      "reshape_49 (Reshape)            (1, 5, 7)            0           lambda_18[0][0]                  \n",
      "__________________________________________________________________________________________________\n",
      "reshape_50 (Reshape)            (1, 5, 7)            0           lambda_19[0][0]                  \n",
      "__________________________________________________________________________________________________\n",
      "lambda_20 (Lambda)              (1, 5, 7)            0           reshape_46[0][0]                 \n",
      "__________________________________________________________________________________________________\n",
      "lambda_21 (Lambda)              (1, 5, 7)            0           reshape_47[0][0]                 \n",
      "__________________________________________________________________________________________________\n",
      "n1_1 (LSTM)                     (1, 5, 10)           720         reshape_49[0][0]                 \n",
      "                                                                 reshape_53[0][0]                 \n",
      "__________________________________________________________________________________________________\n",
      "n2_1 (LSTM)                     (1, 5, 10)           720         reshape_50[0][0]                 \n",
      "                                                                 reshape_54[0][0]                 \n",
      "__________________________________________________________________________________________________\n",
      "reshape_53 (Reshape)            (1, 5, 7)            0           lambda_20[0][0]                  \n",
      "__________________________________________________________________________________________________\n",
      "reshape_54 (Reshape)            (1, 5, 7)            0           lambda_21[0][0]                  \n",
      "__________________________________________________________________________________________________\n",
      "n1_3 (LSTM)                     [(1, 10), (1, 10), ( 840         n1_1[0][0]                       \n",
      "                                                                 n1_1[1][0]                       \n",
      "__________________________________________________________________________________________________\n",
      "n2_3 (LSTM)                     [(1, 10), (1, 10), ( 840         n2_1[0][0]                       \n",
      "                                                                 n2_1[1][0]                       \n",
      "__________________________________________________________________________________________________\n",
      "n1_d (Dense)                    (1, 5)               55          n1_3[0][2]                       \n",
      "                                                                 n1_3[1][2]                       \n",
      "__________________________________________________________________________________________________\n",
      "n2_d (Dense)                    (1, 5)               55          n2_3[0][2]                       \n",
      "                                                                 n2_3[1][2]                       \n",
      "__________________________________________________________________________________________________\n",
      "reshape_51 (Reshape)            (1, 1, 5)            0           n1_d[0][0]                       \n",
      "__________________________________________________________________________________________________\n",
      "reshape_52 (Reshape)            (1, 1, 5)            0           n2_d[0][0]                       \n",
      "__________________________________________________________________________________________________\n",
      "concatenate_16 (Concatenate)    (1, 1, 10)           0           reshape_51[0][0]                 \n",
      "                                                                 reshape_52[0][0]                 \n",
      "__________________________________________________________________________________________________\n",
      "reshape_55 (Reshape)            (1, 1, 5)            0           n1_d[1][0]                       \n",
      "__________________________________________________________________________________________________\n",
      "reshape_56 (Reshape)            (1, 1, 5)            0           n2_d[1][0]                       \n",
      "__________________________________________________________________________________________________\n",
      "tf_op_layer_concat_2 (TensorFlo [(1, 2, 10)]         0           concatenate_16[0][0]             \n",
      "__________________________________________________________________________________________________\n",
      "concatenate_18 (Concatenate)    (1, 1, 10)           0           reshape_55[0][0]                 \n",
      "                                                                 reshape_56[0][0]                 \n",
      "__________________________________________________________________________________________________\n",
      "S (InputLayer)                  [(1, 2)]             0                                            \n",
      "__________________________________________________________________________________________________\n",
      "concatenate_19 (Concatenate)    (1, 3, 10)           0           tf_op_layer_concat_2[0][0]       \n",
      "                                                                 concatenate_18[0][0]             \n",
      "__________________________________________________________________________________________________\n",
      "reshape_48 (Reshape)            (1, 2, 1)            0           S[0][0]                          \n",
      "__________________________________________________________________________________________________\n",
      "lambda_22 (Lambda)              (1, 2, 10)           0           concatenate_19[0][0]             \n",
      "__________________________________________________________________________________________________\n",
      "reshape_58 (Reshape)            (1, 2, 1)            0           reshape_48[0][0]                 \n",
      "__________________________________________________________________________________________________\n",
      "reshape_57 (Reshape)            (1, 2, 10)           0           lambda_22[0][0]                  \n",
      "__________________________________________________________________________________________________\n",
      "concatenate_20 (Concatenate)    (1, 2, 11)           0           reshape_58[0][0]                 \n",
      "                                                                 reshape_57[0][0]                 \n",
      "__________________________________________________________________________________________________\n",
      "s_1 (LSTM)                      (1, 2, 20)           2560        concatenate_20[0][0]             \n",
      "__________________________________________________________________________________________________\n",
      "s_2 (LSTM)                      (1, 2, 15)           2160        s_1[0][0]                        \n",
      "__________________________________________________________________________________________________\n",
      "s_3 (LSTM)                      (1, 2, 10)           1040        s_2[0][0]                        \n",
      "__________________________________________________________________________________________________\n",
      "s_d (Dense)                     (1, 2, 1)            11          s_3[0][0]                        \n",
      "==================================================================================================\n",
      "Total params: 9,001\n",
      "Trainable params: 9,001\n",
      "Non-trainable params: 0\n",
      "__________________________________________________________________________________________________\n"
     ]
    }
   ],
   "source": [
    "model.summary()"
   ]
  },
  {
   "cell_type": "code",
   "execution_count": null,
   "metadata": {},
   "outputs": [],
   "source": [
    "model.compile(loss = 'mse', metrics = ['accuracy'])"
   ]
  }
 ],
 "metadata": {
  "kernelspec": {
   "display_name": "Python 3",
   "language": "python",
   "name": "python3"
  },
  "language_info": {
   "codemirror_mode": {
    "name": "ipython",
    "version": 3
   },
   "file_extension": ".py",
   "mimetype": "text/x-python",
   "name": "python",
   "nbconvert_exporter": "python",
   "pygments_lexer": "ipython3",
   "version": "3.7.7"
  }
 },
 "nbformat": 4,
 "nbformat_minor": 4
}

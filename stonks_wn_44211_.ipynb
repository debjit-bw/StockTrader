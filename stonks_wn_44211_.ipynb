{
 "cells": [
  {
   "cell_type": "code",
   "execution_count": 1,
   "metadata": {},
   "outputs": [],
   "source": [
    "from tensorflow.keras.models import Model\n",
    "from tensorflow.keras.layers import Dense, LSTM, Reshape, Concatenate, Input, Lambda\n",
    "from tensorflow import convert_to_tensor\n",
    "from tensorflow.keras import backend\n",
    "import numpy as np\n",
    "backend.set_floatx('float32')"
   ]
  },
  {
   "cell_type": "code",
   "execution_count": 30,
   "metadata": {},
   "outputs": [],
   "source": [
    "n1_n = 20\n",
    "n2_n = 20"
   ]
  },
  {
   "cell_type": "code",
   "execution_count": 31,
   "metadata": {},
   "outputs": [],
   "source": [
    "n1_1 = LSTM(20, return_sequences = True, name = 'n1_1')\n",
    "n1_2 = LSTM(15, return_sequences = True, name = 'n1_2')\n",
    "n1_3 = LSTM(10, return_state = True, name = 'n1_3')\n",
    "n1_d = Dense(n1_n, kernel_initializer = 'glorot_uniform', activation = 'tanh', name = 'n1_d')"
   ]
  },
  {
   "cell_type": "code",
   "execution_count": 32,
   "metadata": {},
   "outputs": [],
   "source": [
    "n2_1 = LSTM(20, return_sequences = True, name = 'n2_1')\n",
    "n2_2 = LSTM(15, return_sequences = True, name = 'n2_2')\n",
    "n2_3 = LSTM(10, return_state = True, name = 'n2_3')\n",
    "n2_d = Dense(n2_n, kernel_initializer = 'glorot_uniform', activation = 'tanh', name = 'n2_d')"
   ]
  },
  {
   "cell_type": "code",
   "execution_count": 33,
   "metadata": {},
   "outputs": [],
   "source": [
    "s_1 = LSTM(50, return_sequences = True, name = 's_1')\n",
    "s_2 = LSTM(25, return_sequences = True, name = 's_2')\n",
    "s_3 = LSTM(20, return_sequences = True, name = 's_3')\n",
    "s_4 = LSTM(15, return_sequences = True, name = 's_4')\n",
    "s_5 = LSTM(10, return_sequences = True, name = 's_5')\n",
    "s_d = Dense(1, kernel_initializer = 'glorot_uniform', activation = 'tanh', name = 's_d')"
   ]
  },
  {
   "cell_type": "code",
   "execution_count": 34,
   "metadata": {},
   "outputs": [],
   "source": [
    "def MODEL (Ts, Tn, Tg):\n",
    "    # Tn: Number of words in each of Ts's news data\n",
    "    # Ts: Number of stock prices. There are equal number of news data blocks (each containing Tn words)\n",
    "    # Tg: Dimentionality of the GloVe vectors used\n",
    "    \n",
    "    N1 = Input(shape = (Ts, Tn, Tg), batch_size = 1, name = 'N1')\n",
    "    N2 = Input(shape = (Ts, Tn, Tg), batch_size = 1, name = 'N2')\n",
    "    S = Input(shape = (Ts), batch_size = 1, name = 'S')\n",
    "    \n",
    "    N_1 = Reshape((Ts, Tn, Tg))(N1)\n",
    "    N_2 = Reshape((Ts, Tn, Tg))(N2)\n",
    "    S_ = Reshape((Ts, 1))(S)\n",
    "\n",
    "    sentiment = convert_to_tensor(np.zeros((1, 1, n1_n + n2_n)))   #dim0 (batch_size) is super sticky...setting it to 1 (shape[0]) helps\n",
    "    \n",
    "    for i in range(Ts):\n",
    "        var1 = Lambda(lambda N1: N1[:, i, :, :])(N_1)\n",
    "        var2 = Lambda(lambda N2: N2[:, i, :, :])(N_2)\n",
    "        \n",
    "        var1 = Reshape((Tn, Tg))(var1)\n",
    "        var2 = Reshape((Tn, Tg))(var2)\n",
    "        \n",
    "        var1 = n1_1(var1)\n",
    "        var2 = n2_1(var2)\n",
    "        \n",
    "        var1 = n1_2(var1)\n",
    "        var2 = n2_2(var2)\n",
    "        \n",
    "        _, _, var1 = n1_3(var1)\n",
    "        _, _, var2 = n2_3(var2)\n",
    "        \n",
    "        var1 = n1_d(var1)\n",
    "        var2 = n2_d(var2)\n",
    "        \n",
    "        var1 = Reshape((1, n1_n))(var1)\n",
    "        var2 = Reshape((1, n2_n))(var2)\n",
    "        \n",
    "        var = Concatenate(axis = 2)([var1, var2])\n",
    "        \n",
    "        sentiment = Concatenate(axis= 1)([sentiment, var])\n",
    "    \n",
    "    \n",
    "    sentiment = Lambda(lambda s: s[:, 1:, :])(sentiment)\n",
    "    sentiment = Reshape((Ts, n1_n + n2_n))(sentiment)\n",
    "    S_ = Reshape((Ts, 1))(S_)\n",
    "    \n",
    "    X = Concatenate(axis = 2)([S_, sentiment])    #dims: (Ts, 51)\n",
    "    \n",
    "    X = s_1(X)\n",
    "    X = s_2(X)\n",
    "    X = s_3(X)\n",
    "    X = s_4(X)\n",
    "    X = s_5(X)\n",
    "    X = s_d(X)\n",
    "    \n",
    "    model = Model(inputs = [N1, N2, S], outputs = X)\n",
    "    \n",
    "    return model"
   ]
  },
  {
   "cell_type": "code",
   "execution_count": 35,
   "metadata": {},
   "outputs": [
    {
     "name": "stdout",
     "output_type": "stream",
     "text": [
      "WARNING:tensorflow:Layer concatenate_17 is casting an input tensor from dtype float64 to the layer's dtype of float32, which is new behavior in TensorFlow 2.  The layer has dtype float32 because it's dtype defaults to floatx.\n",
      "\n",
      "If you intended to run this layer in float32, you can safely ignore this warning. If in doubt, this warning is likely only an issue if you are porting a TensorFlow 1.X model to TensorFlow 2.\n",
      "\n",
      "To change all layers to have dtype float64 by default, call `tf.keras.backend.set_floatx('float64')`. To change just this layer, pass dtype='float64' to the layer constructor. If you are the author of this layer, you can disable autocasting by passing autocast=False to the base Layer constructor.\n",
      "\n"
     ]
    }
   ],
   "source": [
    "model = MODEL(1, 5, 7)"
   ]
  },
  {
   "cell_type": "code",
   "execution_count": 36,
   "metadata": {},
   "outputs": [
    {
     "name": "stdout",
     "output_type": "stream",
     "text": [
      "Model: \"model_4\"\n",
      "__________________________________________________________________________________________________\n",
      "Layer (type)                    Output Shape         Param #     Connected to                     \n",
      "==================================================================================================\n",
      "N1 (InputLayer)                 [(1, 1, 5, 7)]       0                                            \n",
      "__________________________________________________________________________________________________\n",
      "N2 (InputLayer)                 [(1, 1, 5, 7)]       0                                            \n",
      "__________________________________________________________________________________________________\n",
      "reshape_49 (Reshape)            (1, 1, 5, 7)         0           N1[0][0]                         \n",
      "__________________________________________________________________________________________________\n",
      "reshape_50 (Reshape)            (1, 1, 5, 7)         0           N2[0][0]                         \n",
      "__________________________________________________________________________________________________\n",
      "lambda_18 (Lambda)              (1, 5, 7)            0           reshape_49[0][0]                 \n",
      "__________________________________________________________________________________________________\n",
      "lambda_19 (Lambda)              (1, 5, 7)            0           reshape_50[0][0]                 \n",
      "__________________________________________________________________________________________________\n",
      "reshape_52 (Reshape)            (1, 5, 7)            0           lambda_18[0][0]                  \n",
      "__________________________________________________________________________________________________\n",
      "reshape_53 (Reshape)            (1, 5, 7)            0           lambda_19[0][0]                  \n",
      "__________________________________________________________________________________________________\n",
      "n1_1 (LSTM)                     (1, 5, 20)           2240        reshape_52[0][0]                 \n",
      "__________________________________________________________________________________________________\n",
      "n2_1 (LSTM)                     (1, 5, 20)           2240        reshape_53[0][0]                 \n",
      "__________________________________________________________________________________________________\n",
      "n1_2 (LSTM)                     (1, 5, 15)           2160        n1_1[0][0]                       \n",
      "__________________________________________________________________________________________________\n",
      "n2_2 (LSTM)                     (1, 5, 15)           2160        n2_1[0][0]                       \n",
      "__________________________________________________________________________________________________\n",
      "n1_3 (LSTM)                     [(1, 10), (1, 10), ( 1040        n1_2[0][0]                       \n",
      "__________________________________________________________________________________________________\n",
      "n2_3 (LSTM)                     [(1, 10), (1, 10), ( 1040        n2_2[0][0]                       \n",
      "__________________________________________________________________________________________________\n",
      "n1_d (Dense)                    (1, 20)              220         n1_3[0][2]                       \n",
      "__________________________________________________________________________________________________\n",
      "n2_d (Dense)                    (1, 20)              220         n2_3[0][2]                       \n",
      "__________________________________________________________________________________________________\n",
      "reshape_54 (Reshape)            (1, 1, 20)           0           n1_d[0][0]                       \n",
      "__________________________________________________________________________________________________\n",
      "reshape_55 (Reshape)            (1, 1, 20)           0           n2_d[0][0]                       \n",
      "__________________________________________________________________________________________________\n",
      "concatenate_16 (Concatenate)    (1, 1, 40)           0           reshape_54[0][0]                 \n",
      "                                                                 reshape_55[0][0]                 \n",
      "__________________________________________________________________________________________________\n",
      "S (InputLayer)                  [(1, 1)]             0                                            \n",
      "__________________________________________________________________________________________________\n",
      "tf_op_layer_concat_4 (TensorFlo [(1, 2, 40)]         0           concatenate_16[0][0]             \n",
      "__________________________________________________________________________________________________\n",
      "reshape_51 (Reshape)            (1, 1, 1)            0           S[0][0]                          \n",
      "__________________________________________________________________________________________________\n",
      "lambda_20 (Lambda)              (1, 1, 40)           0           tf_op_layer_concat_4[0][0]       \n",
      "__________________________________________________________________________________________________\n",
      "reshape_57 (Reshape)            (1, 1, 1)            0           reshape_51[0][0]                 \n",
      "__________________________________________________________________________________________________\n",
      "reshape_56 (Reshape)            (1, 1, 40)           0           lambda_20[0][0]                  \n",
      "__________________________________________________________________________________________________\n",
      "concatenate_18 (Concatenate)    (1, 1, 41)           0           reshape_57[0][0]                 \n",
      "                                                                 reshape_56[0][0]                 \n",
      "__________________________________________________________________________________________________\n",
      "s_1 (LSTM)                      (1, 1, 50)           18400       concatenate_18[0][0]             \n",
      "__________________________________________________________________________________________________\n",
      "s_2 (LSTM)                      (1, 1, 25)           7600        s_1[0][0]                        \n",
      "__________________________________________________________________________________________________\n",
      "s_3 (LSTM)                      (1, 1, 20)           3680        s_2[0][0]                        \n",
      "__________________________________________________________________________________________________\n",
      "s_4 (LSTM)                      (1, 1, 15)           2160        s_3[0][0]                        \n",
      "__________________________________________________________________________________________________\n",
      "s_5 (LSTM)                      (1, 1, 10)           1040        s_4[0][0]                        \n",
      "__________________________________________________________________________________________________\n",
      "s_d (Dense)                     (1, 1, 1)            11          s_5[0][0]                        \n",
      "==================================================================================================\n",
      "Total params: 44,211\n",
      "Trainable params: 44,211\n",
      "Non-trainable params: 0\n",
      "__________________________________________________________________________________________________\n"
     ]
    }
   ],
   "source": [
    "model.summary()"
   ]
  },
  {
   "cell_type": "code",
   "execution_count": null,
   "metadata": {},
   "outputs": [],
   "source": [
    "model.compile(loss = 'mse', metrics = ['accuracy'])"
   ]
  }
 ],
 "metadata": {
  "kernelspec": {
   "display_name": "Python 3",
   "language": "python",
   "name": "python3"
  },
  "language_info": {
   "codemirror_mode": {
    "name": "ipython",
    "version": 3
   },
   "file_extension": ".py",
   "mimetype": "text/x-python",
   "name": "python",
   "nbconvert_exporter": "python",
   "pygments_lexer": "ipython3",
   "version": "3.7.7"
  }
 },
 "nbformat": 4,
 "nbformat_minor": 4
}
